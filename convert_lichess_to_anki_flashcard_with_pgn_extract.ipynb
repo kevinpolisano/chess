{
  "nbformat": 4,
  "nbformat_minor": 0,
  "metadata": {
    "colab": {
      "provenance": [],
      "authorship_tag": "ABX9TyMj+ZOnQs50W+4S4v3NVkWq",
      "include_colab_link": true
    },
    "kernelspec": {
      "name": "python3",
      "display_name": "Python 3"
    },
    "language_info": {
      "name": "python"
    }
  },
  "cells": [
    {
      "cell_type": "markdown",
      "metadata": {
        "id": "view-in-github",
        "colab_type": "text"
      },
      "source": [
        "<a href=\"https://colab.research.google.com/github/kevinpolisano/chess/blob/main/convert_lichess_to_anki_flashcard_with_pgn_extract.ipynb\" target=\"_parent\"><img src=\"https://colab.research.google.com/assets/colab-badge.svg\" alt=\"Open In Colab\"/></a>"
      ]
    },
    {
      "cell_type": "markdown",
      "source": [
        "# Convert lichess study to Anki chess 2.0 flashcards with pgn-extract\n",
        "\n",
        "## Prerequisites \n",
        "\n",
        "Install the following tools:\n",
        "- `curl` to transfer data from URLs\n",
        "- `unzip` to decompress archives\n",
        "- `make` to compile codes"
      ],
      "metadata": {
        "id": "s65Mpz7uuXDy"
      }
    },
    {
      "cell_type": "code",
      "execution_count": 2,
      "metadata": {
        "colab": {
          "base_uri": "https://localhost:8080/"
        },
        "id": "SU1aAu7ziqzx",
        "outputId": "bd71f6a8-ca90-4663-dceb-ee4d6ed28566"
      },
      "outputs": [
        {
          "output_type": "stream",
          "name": "stdout",
          "text": [
            "\u001b[33m\r0% [Working]\u001b[0m\r            \rHit:1 http://archive.ubuntu.com/ubuntu focal InRelease\n",
            "\u001b[33m\r0% [Waiting for headers] [Connecting to security.ubuntu.com (185.125.190.36)] [\u001b[0m\r                                                                               \rHit:2 https://developer.download.nvidia.com/compute/cuda/repos/ubuntu2004/x86_64  InRelease\n",
            "\u001b[33m\r0% [Waiting for headers] [Connecting to security.ubuntu.com (185.125.190.36)] [\u001b[0m\r                                                                               \rGet:3 http://archive.ubuntu.com/ubuntu focal-updates InRelease [114 kB]\n",
            "\r                                                                               \rGet:4 https://cloud.r-project.org/bin/linux/ubuntu focal-cran40/ InRelease [3,622 B]\n",
            "\u001b[33m\r0% [3 InRelease 15.6 kB/114 kB 14%] [Connecting to security.ubuntu.com (185.125\u001b[0m\u001b[33m\r0% [3 InRelease 15.6 kB/114 kB 14%] [Connecting to security.ubuntu.com (185.125\u001b[0m\r                                                                               \rGet:5 http://ppa.launchpad.net/c2d4u.team/c2d4u4.0+/ubuntu focal InRelease [18.1 kB]\n",
            "Get:6 http://archive.ubuntu.com/ubuntu focal-backports InRelease [108 kB]\n",
            "Get:7 http://security.ubuntu.com/ubuntu focal-security InRelease [114 kB]\n",
            "Hit:8 http://ppa.launchpad.net/cran/libgit2/ubuntu focal InRelease\n",
            "Hit:9 http://ppa.launchpad.net/deadsnakes/ppa/ubuntu focal InRelease\n",
            "Get:10 http://archive.ubuntu.com/ubuntu focal-updates/universe amd64 Packages [1,343 kB]\n",
            "Get:11 http://ppa.launchpad.net/graphics-drivers/ppa/ubuntu focal InRelease [24.3 kB]\n",
            "Get:12 http://archive.ubuntu.com/ubuntu focal-updates/main amd64 Packages [3,158 kB]\n",
            "Hit:13 http://ppa.launchpad.net/ubuntugis/ppa/ubuntu focal InRelease\n",
            "Get:14 http://ppa.launchpad.net/c2d4u.team/c2d4u4.0+/ubuntu focal/main Sources [2,577 kB]\n",
            "Get:15 http://security.ubuntu.com/ubuntu focal-security/main amd64 Packages [2,681 kB]\n",
            "Get:16 http://security.ubuntu.com/ubuntu focal-security/universe amd64 Packages [1,046 kB]\n",
            "Get:17 http://ppa.launchpad.net/c2d4u.team/c2d4u4.0+/ubuntu focal/main amd64 Packages [1,216 kB]\n",
            "Get:18 http://ppa.launchpad.net/graphics-drivers/ppa/ubuntu focal/main amd64 Packages [46.8 kB]\n",
            "Fetched 12.5 MB in 3s (3,862 kB/s)\n",
            "Reading package lists... Done\n",
            "Building dependency tree       \n",
            "Reading state information... Done\n",
            "37 packages can be upgraded. Run 'apt list --upgradable' to see them.\n",
            "Reading package lists... Done\n",
            "Building dependency tree       \n",
            "Reading state information... Done\n",
            "make is already the newest version (4.2.1-1.2).\n",
            "make set to manually installed.\n",
            "curl is already the newest version (7.68.0-1ubuntu2.18).\n",
            "unzip is already the newest version (6.0-25ubuntu1.1).\n",
            "0 upgraded, 0 newly installed, 0 to remove and 37 not upgraded.\n"
          ]
        }
      ],
      "source": [
        "!apt update\n",
        "!apt install -y curl unzip make"
      ]
    },
    {
      "cell_type": "markdown",
      "source": [
        "Download and decompress the archive containing `pgn-extract` "
      ],
      "metadata": {
        "id": "xtIy3u1ivYI7"
      }
    },
    {
      "cell_type": "code",
      "source": [
        "!curl -LOC - https://www.cs.kent.ac.uk/~djb/pgn-extract/pgn-extract-22-11.zip && unzip pgn-extract-*.zip"
      ],
      "metadata": {
        "colab": {
          "base_uri": "https://localhost:8080/"
        },
        "id": "KawEnqMWjVrJ",
        "outputId": "153531f9-050f-4acb-82c7-31a82ee56d8a"
      },
      "execution_count": 3,
      "outputs": [
        {
          "output_type": "stream",
          "name": "stdout",
          "text": [
            "  % Total    % Received % Xferd  Average Speed   Time    Time     Time  Current\n",
            "                                 Dload  Upload   Total   Spent    Left  Speed\n",
            "100   260  100   260    0     0    497      0 --:--:-- --:--:-- --:--:--   496\n",
            "100  583k  100  583k    0     0   537k      0  0:00:01  0:00:01 --:--:--  537k\n",
            "Archive:  pgn-extract-22-11.zip\n",
            "   creating: pgn-extract/\n",
            "  inflating: pgn-extract/zobrist.c   \n",
            "  inflating: pgn-extract/lines.h     \n",
            "  inflating: pgn-extract/defs.h      \n",
            "  inflating: pgn-extract/help.html   \n",
            "  inflating: pgn-extract/end.h       \n",
            "  inflating: pgn-extract/index.html  \n",
            "  inflating: pgn-extract/argsfile.h  \n",
            "   creating: pgn-extract/test/\n",
            "  inflating: pgn-extract/test/Makefile  \n",
            "  inflating: pgn-extract/test/runtests  \n",
            "   creating: pgn-extract/test/outfiles/\n",
            "  inflating: pgn-extract/test/outfiles/test-z-out.pgn  \n",
            "  inflating: pgn-extract/test/outfiles/test-WWepd-out.pgn  \n",
            "  inflating: pgn-extract/test/outfiles/test-o-out.pgn  \n",
            "  inflating: pgn-extract/test/outfiles/test-nestedcomments-out.pgn  \n",
            "  inflating: pgn-extract/test/outfiles/test-long-line-log.txt  \n",
            "  inflating: pgn-extract/test/outfiles/test-pu90-out.pgn  \n",
            "  inflating: pgn-extract/test/outfiles/test-nobadresults-log.txt  \n",
            "  inflating: pgn-extract/test/outfiles/fischer-bl45-out.pgn  \n",
            "  inflating: pgn-extract/test/outfiles/test-AA-dupes.pgn  \n",
            "  inflating: pgn-extract/test/outfiles/test-f-out.pgn  \n",
            "  inflating: pgn-extract/test/outfiles/test-notags-out.pgn  \n",
            "  inflating: pgn-extract/test/outfiles/test-TTp-out.pgn  \n",
            "  inflating: pgn-extract/test/outfiles/test-s-out.pgn  \n",
            "  inflating: pgn-extract/test/outfiles/test-bu45-out.pgn  \n",
            " extracting: pgn-extract/test/outfiles/fix-results-log.txt  \n",
            "  inflating: pgn-extract/test/outfiles/test-7-out.pgn  \n",
            "  inflating: pgn-extract/test/outfiles/test-fuzzydepth3-unique.pgn  \n",
            "  inflating: pgn-extract/test/outfiles/test-WWlalg-out.pgn  \n",
            "  inflating: pgn-extract/test/outfiles/test-TTd-out.pgn  \n",
            "  inflating: pgn-extract/test/outfiles/test-skipmatching-out.pgn  \n",
            "  inflating: pgn-extract/test/outfiles/test-ZZ-unique.pgn  \n",
            "  inflating: pgn-extract/test/outfiles/test-UU-unique.pgn  \n",
            "  inflating: pgn-extract/test/outfiles/test-evaluation-out.pgn  \n",
            "  inflating: pgn-extract/test/outfiles/test-d-dupes.pgn  \n",
            "  inflating: pgn-extract/test/outfiles/fischer-bu45-out.pgn  \n",
            "  inflating: pgn-extract/test/outfiles/test-fuzzydepth0-dupes.pgn  \n",
            "  inflating: pgn-extract/test/outfiles/test-allownullmoves-out.pgn  \n",
            "  inflating: pgn-extract/test/outfiles/test-pl90-out.pgn  \n",
            "  inflating: pgn-extract/test/outfiles/test-w75-out.pgn  \n",
            "  inflating: pgn-extract/test/outfiles/test-Wlalg-out.pgn  \n",
            "  inflating: pgn-extract/test/outfiles/test-e-out.pgn  \n",
            "  inflating: pgn-extract/test/outfiles/test-matchplylimit-out.pgn  \n",
            "  inflating: pgn-extract/test/outfiles/test-CC-out.pgn  \n",
            "  inflating: pgn-extract/test/outfiles/test-SS-out.pgn  \n",
            "  inflating: pgn-extract/test/outfiles/test-promotion-out.pgn  \n",
            "  inflating: pgn-extract/test/outfiles/test-fuzzydepth4-unique.pgn  \n",
            "  inflating: pgn-extract/test/outfiles/test-l-out.pgn  \n",
            "  inflating: pgn-extract/test/outfiles/test-seventyfive-out.pgn  \n",
            "  inflating: pgn-extract/test/outfiles/test-y-out.pgn  \n",
            "  inflating: pgn-extract/test/outfiles/test-RR-out.pgn  \n",
            "  inflating: pgn-extract/test/outfiles/test-d-unique.pgn  \n",
            "  inflating: pgn-extract/test/outfiles/test-FF-text-out.pgn  \n",
            "  inflating: pgn-extract/test/outfiles/10.pgn  \n",
            "  inflating: pgn-extract/test/outfiles/test-xn-out.pgn  \n",
            "  inflating: pgn-extract/test/outfiles/11.pgn  \n",
            "  inflating: pgn-extract/test/outfiles/test-x-out.pgn  \n",
            "  inflating: pgn-extract/test/outfiles/test-b30-out.pgn  \n",
            "  inflating: pgn-extract/test/outfiles/test-markmatches-out.pgn  \n",
            "  inflating: pgn-extract/test/outfiles/test-FENPattern-out.pgn  \n",
            "  inflating: pgn-extract/test/outfiles/test-nosetup-out.pgn  \n",
            "  inflating: pgn-extract/test/outfiles/test-WWdeutsch-out.pgn  \n",
            "  inflating: pgn-extract/test/outfiles/test-WWuci-out.pgn  \n",
            "  inflating: pgn-extract/test/outfiles/test-FF-out.pgn  \n",
            "  inflating: pgn-extract/test/outfiles/test-TTr-out.pgn  \n",
            "  inflating: pgn-extract/test/outfiles/test-VV-out.pgn  \n",
            "  inflating: pgn-extract/test/outfiles/test-onlysetup-out.pgn  \n",
            "  inflating: pgn-extract/test/outfiles/test-fencomments-out.pgn  \n",
            "  inflating: pgn-extract/test/outfiles/test-bl45-out.pgn  \n",
            "  inflating: pgn-extract/test/outfiles/test-plylimit-out.pgn  \n",
            "  inflating: pgn-extract/test/outfiles/test-WWelalg-out.pgn  \n",
            " extracting: pgn-extract/test/outfiles/test-allownullmoves-log.txt  \n",
            "  inflating: pgn-extract/test/outfiles/test-TTw-out.pgn  \n",
            "  inflating: pgn-extract/test/outfiles/test-t-out.pgn  \n",
            "  inflating: pgn-extract/test/outfiles/test-stopafter-out.pgn  \n",
            "  inflating: pgn-extract/test/outfiles/test-a-out.pgn  \n",
            "  inflating: pgn-extract/test/outfiles/test-DD-unique.pgn  \n",
            "  inflating: pgn-extract/test/outfiles/test-Wdeutsch-out.pgn  \n",
            "  inflating: pgn-extract/test/outfiles/test-TTb-out.pgn  \n",
            "  inflating: pgn-extract/test/outfiles/test-w1000-out.pgn  \n",
            "  inflating: pgn-extract/test/outfiles/test-plycount-out.pgn  \n",
            "  inflating: pgn-extract/test/outfiles/test-addhashcode-out.pgn  \n",
            "  inflating: pgn-extract/test/outfiles/test-AA-unique.pgn  \n",
            "  inflating: pgn-extract/test/outfiles/test-fuzzydepth3-dupes.pgn  \n",
            "  inflating: pgn-extract/test/outfiles/test-tFEN-out.pgn  \n",
            "  inflating: pgn-extract/test/outfiles/test-checkmate-out.pgn  \n",
            "  inflating: pgn-extract/test/outfiles/log.txt  \n",
            "  inflating: pgn-extract/test/outfiles/fischer-b30-out.pgn  \n",
            "  inflating: pgn-extract/test/outfiles/test-repetition-out.pgn  \n",
            "  inflating: pgn-extract/test/outfiles/test-fixresulttags-out.pgn  \n",
            "  inflating: pgn-extract/test/outfiles/test-dropply-out.pgn  \n",
            "  inflating: pgn-extract/test/outfiles/test-n-matched.pgn  \n",
            "  inflating: pgn-extract/test/outfiles/test-TTdd-out.pgn  \n",
            "  inflating: pgn-extract/test/outfiles/test-fuzzydepth5-dupes.pgn  \n",
            "  inflating: pgn-extract/test/outfiles/test-FENPattern-cli-out.pgn  \n",
            "  inflating: pgn-extract/test/outfiles/test-WWxlalg-out.pgn  \n",
            "  inflating: pgn-extract/test/outfiles/test-w60-out.pgn  \n",
            "  inflating: pgn-extract/test/outfiles/test-PP-out.pgn  \n",
            " extracting: pgn-extract/test/outfiles/test-FENPattern-log.txt  \n",
            "  inflating: pgn-extract/test/outfiles/test-WWhalg-out.pgn  \n",
            "  inflating: pgn-extract/test/outfiles/test-Welalg-out.pgn  \n",
            "  inflating: pgn-extract/test/outfiles/test-noresults-out.pgn  \n",
            "  inflating: pgn-extract/test/outfiles/A.pgn  \n",
            "  inflating: pgn-extract/test/outfiles/test-fuzzydepth0-unique.pgn  \n",
            "  inflating: pgn-extract/test/outfiles/test-n-unmatched.pgn  \n",
            "  inflating: pgn-extract/test/outfiles/test-fifty-out.pgn  \n",
            "  inflating: pgn-extract/test/outfiles/test-TTa-out.pgn  \n",
            "  inflating: pgn-extract/test/outfiles/test-nagcomments-out.pgn  \n",
            "  inflating: pgn-extract/test/outfiles/test-splitvariants-out.pgn  \n",
            "  inflating: pgn-extract/test/outfiles/B.pgn  \n",
            "  inflating: pgn-extract/test/outfiles/test-long-line-out.pgn  \n",
            "  inflating: pgn-extract/test/outfiles/test-p60-out.pgn  \n",
            "  inflating: pgn-extract/test/outfiles/LLog.txt  \n",
            "  inflating: pgn-extract/test/outfiles/test-Whalg-out.pgn  \n",
            "  inflating: pgn-extract/test/outfiles/test-nobadresults-out.pgn  \n",
            "  inflating: pgn-extract/test/outfiles/test-startply-out.pgn  \n",
            "  inflating: pgn-extract/test/outfiles/test-nomovenumbers-out.pgn  \n",
            "  inflating: pgn-extract/test/outfiles/test-c-out.pgn  \n",
            "  inflating: pgn-extract/test/outfiles/test-linenumbers-out.pgn  \n",
            "  inflating: pgn-extract/test/outfiles/test-r-log.txt  \n",
            "  inflating: pgn-extract/test/outfiles/test-v-out.pgn  \n",
            "  inflating: pgn-extract/test/outfiles/test-fuzzydepth4-dupes.pgn  \n",
            "  inflating: pgn-extract/test/outfiles/1.pgn  \n",
            "  inflating: pgn-extract/test/outfiles/test-selectonly-out.pgn  \n",
            "  inflating: pgn-extract/test/outfiles/test-underpromotion-out.pgn  \n",
            "  inflating: pgn-extract/test/outfiles/E.pgn  \n",
            "  inflating: pgn-extract/test/outfiles/test-ZZ-dupes.pgn  \n",
            "  inflating: pgn-extract/test/outfiles/test-NN-out.pgn  \n",
            "  inflating: pgn-extract/test/outfiles/2.pgn  \n",
            "  inflating: pgn-extract/test/outfiles/test-nochecks-out.pgn  \n",
            "  inflating: pgn-extract/test/outfiles/test-stalemate-out.pgn  \n",
            "  inflating: pgn-extract/test/outfiles/test-fuzzydepth5-unique.pgn  \n",
            "   creating: pgn-extract/test/infiles/\n",
            "  inflating: pgn-extract/test/infiles/test-o.txt  \n",
            "  inflating: pgn-extract/test/infiles/files.txt  \n",
            " extracting: pgn-extract/test/infiles/taglist.txt  \n",
            "  inflating: pgn-extract/test/infiles/test-nagcomments.pgn  \n",
            "  inflating: pgn-extract/test/infiles/test-hash.pgn  \n",
            "  inflating: pgn-extract/test/infiles/test-plylimit.pgn  \n",
            "  inflating: pgn-extract/test/infiles/argslist.txt  \n",
            "  inflating: pgn-extract/test/infiles/barnes-horton.pgn  \n",
            "  inflating: pgn-extract/test/infiles/test-nobadresults.pgn  \n",
            "  inflating: pgn-extract/test/infiles/test-long-line.pgn  \n",
            " extracting: pgn-extract/test/infiles/ymatch.txt  \n",
            "  inflating: pgn-extract/test/infiles/test-fuzzydepth.pgn  \n",
            "  inflating: pgn-extract/test/infiles/petrosian.pgn  \n",
            "  inflating: pgn-extract/test/infiles/test-checkmate.pgn  \n",
            " extracting: pgn-extract/test/infiles/fools-mate.txt  \n",
            "  inflating: pgn-extract/test/infiles/test-noresults.pgn  \n",
            "  inflating: pgn-extract/test/infiles/test-splitvariants.pgn  \n",
            "  inflating: pgn-extract/test/infiles/test-startply.pgn  \n",
            "  inflating: pgn-extract/test/infiles/vvars.txt  \n",
            "  inflating: pgn-extract/test/infiles/test-N.pgn  \n",
            "  inflating: pgn-extract/test/infiles/najdorf.pgn  \n",
            "  inflating: pgn-extract/test/infiles/test-fixresulttags-in.pgn  \n",
            "  inflating: pgn-extract/test/infiles/test-promotion-in.pgn  \n",
            "  inflating: pgn-extract/test/infiles/fools-mate.pgn  \n",
            "  inflating: pgn-extract/test/infiles/test-fifty.pgn  \n",
            "  inflating: pgn-extract/test/infiles/test-fencomments.pgn  \n",
            "  inflating: pgn-extract/test/infiles/test-addhashcode.pgn  \n",
            "  inflating: pgn-extract/test/infiles/test-selectonly.pgn  \n",
            "  inflating: pgn-extract/test/infiles/test-seventyfive.pgn  \n",
            "  inflating: pgn-extract/test/infiles/test-R.pgn  \n",
            "  inflating: pgn-extract/test/infiles/test-e.pgn  \n",
            "  inflating: pgn-extract/test/infiles/fischer.pgn  \n",
            "  inflating: pgn-extract/test/infiles/test-repetition.pgn  \n",
            "  inflating: pgn-extract/test/infiles/test-s.pgn  \n",
            "  inflating: pgn-extract/test/infiles/test-f1.pgn  \n",
            "  inflating: pgn-extract/test/infiles/test-tFEN.txt  \n",
            "  inflating: pgn-extract/test/infiles/test-ucS.pgn  \n",
            " extracting: pgn-extract/test/infiles/zmatch.txt  \n",
            "  inflating: pgn-extract/test/infiles/test-F.pgn  \n",
            "  inflating: pgn-extract/test/infiles/test-nomovenumbers.pgn  \n",
            "  inflating: pgn-extract/test/infiles/test-setup-in.pgn  \n",
            "  inflating: pgn-extract/test/infiles/test-P.pgn  \n",
            "  inflating: pgn-extract/test/infiles/test-f2.pgn  \n",
            "  inflating: pgn-extract/test/infiles/test-ucE.pgn  \n",
            "  inflating: pgn-extract/test/infiles/test-C.pgn  \n",
            "  inflating: pgn-extract/test/infiles/test-t.pgn  \n",
            "  inflating: pgn-extract/test/infiles/roster.txt  \n",
            "  inflating: pgn-extract/test/infiles/test-ucW.pgn  \n",
            " extracting: pgn-extract/test/infiles/clist.txt  \n",
            "  inflating: pgn-extract/test/infiles/test-w.pgn  \n",
            "  inflating: pgn-extract/test/infiles/test-matchplylimit.pgn  \n",
            "  inflating: pgn-extract/test/infiles/test-notags.pgn  \n",
            "  inflating: pgn-extract/test/infiles/test-V.pgn  \n",
            "  inflating: pgn-extract/test/infiles/test-7.pgn  \n",
            "  inflating: pgn-extract/test/infiles/test-stalemate.pgn  \n",
            "  inflating: pgn-extract/test/infiles/test-allownullmoves.pgn  \n",
            "  inflating: pgn-extract/test/infiles/test-plycount.pgn  \n",
            "  inflating: pgn-extract/test/infiles/test-Ta.pgn  \n",
            "  inflating: pgn-extract/test/infiles/test-L1.pgn  \n",
            " extracting: pgn-extract/test/infiles/test-r.txt  \n",
            "  inflating: pgn-extract/test/infiles/test-F-text.pgn  \n",
            "  inflating: pgn-extract/test/infiles/xvars.txt  \n",
            "  inflating: pgn-extract/test/infiles/alg.txt  \n",
            "  inflating: pgn-extract/test/infiles/test-L2.pgn  \n",
            "  inflating: pgn-extract/test/infiles/test-evaluation.pgn  \n",
            "  inflating: pgn-extract/test/infiles/test-FENPattern.txt  \n",
            "  inflating: pgn-extract/test/infiles/test-nochecks.pgn  \n",
            "  inflating: pgn-extract/test/infiles/test-a.txt  \n",
            "  inflating: pgn-extract/test/infiles/test-stopafter.pgn  \n",
            " extracting: pgn-extract/test/infiles/Pvars.txt  \n",
            "  inflating: pgn-extract/test/infiles/nested-comment.pgn  \n",
            "  inflating: pgn-extract/map.h       \n",
            "  inflating: pgn-extract/fenmatcher.h  \n",
            "  inflating: pgn-extract/taglist.h   \n",
            "  inflating: pgn-extract/lex.c       \n",
            "  inflating: pgn-extract/pgn-extract.man  \n",
            "  inflating: pgn-extract/grammar.c   \n",
            "  inflating: pgn-extract/changes.html  \n",
            "  inflating: pgn-extract/pgn-extract.xml  \n",
            "  inflating: pgn-extract/bool.h      \n",
            "  inflating: pgn-extract/Makefile    \n",
            "  inflating: pgn-extract/eco.h       \n",
            "  inflating: pgn-extract/apply.c     \n",
            "  inflating: pgn-extract/taglines.c  \n",
            "  inflating: pgn-extract/hashing.c   \n",
            "  inflating: pgn-extract/decode.c    \n",
            "  inflating: pgn-extract/lists.h     \n",
            "  inflating: pgn-extract/moves.c     \n",
            "  inflating: pgn-extract/tokens.h    \n",
            "  inflating: pgn-extract/output.h    \n",
            "  inflating: pgn-extract/mymalloc.c  \n",
            "  inflating: pgn-extract/lines.c     \n",
            "  inflating: pgn-extract/Makefile-windows  \n",
            "  inflating: pgn-extract/COPYING     \n",
            "  inflating: pgn-extract/eco.pgn     \n",
            "  inflating: pgn-extract/main.c      \n",
            "  inflating: pgn-extract/zobrist.h   \n",
            "  inflating: pgn-extract/lex.h       \n",
            "  inflating: pgn-extract/grammar.h   \n",
            "  inflating: pgn-extract/map.c       \n",
            "  inflating: pgn-extract/fenmatcher.c  \n",
            "  inflating: pgn-extract/style.css   \n",
            "  inflating: pgn-extract/argsfile.c  \n",
            "  inflating: pgn-extract/end.c       \n",
            "  inflating: pgn-extract/hashing.h   \n",
            "  inflating: pgn-extract/copyright   \n",
            "  inflating: pgn-extract/eco.c       \n",
            "  inflating: pgn-extract/taglines.h  \n",
            "  inflating: pgn-extract/apply.h     \n",
            "  inflating: pgn-extract/mymalloc.h  \n",
            "  inflating: pgn-extract/output.c    \n",
            "  inflating: pgn-extract/typedef.h   \n",
            "  inflating: pgn-extract/lists.c     \n",
            "  inflating: pgn-extract/decode.h    \n",
            "  inflating: pgn-extract/moves.h     \n"
          ]
        }
      ]
    },
    {
      "cell_type": "markdown",
      "source": [
        "Compile the project to generate the binary executable `pgn-extract`"
      ],
      "metadata": {
        "id": "WMy7lEu1vkpg"
      }
    },
    {
      "cell_type": "code",
      "source": [
        "!cd pgn-extract && make"
      ],
      "metadata": {
        "colab": {
          "base_uri": "https://localhost:8080/"
        },
        "id": "LAxG0mzBjs5m",
        "outputId": "14092f17-b120-426e-9864-993a1af416d7"
      },
      "execution_count": 4,
      "outputs": [
        {
          "output_type": "stream",
          "name": "stdout",
          "text": [
            "gcc -c -pedantic -Wall -Wshadow -Wformat -Wpointer-arith -Wstrict-prototypes -Wmissing-prototypes -Wwrite-strings -Wsign-compare -Wimplicit-function-declaration -g -I/usr/local/lib/ansi-include -std=c99  -O3 grammar.c\n",
            "gcc -c -pedantic -Wall -Wshadow -Wformat -Wpointer-arith -Wstrict-prototypes -Wmissing-prototypes -Wwrite-strings -Wsign-compare -Wimplicit-function-declaration -g -I/usr/local/lib/ansi-include -std=c99  -O3 lex.c\n",
            "gcc -c -pedantic -Wall -Wshadow -Wformat -Wpointer-arith -Wstrict-prototypes -Wmissing-prototypes -Wwrite-strings -Wsign-compare -Wimplicit-function-declaration -g -I/usr/local/lib/ansi-include -std=c99  -O3 map.c\n",
            "gcc -c -pedantic -Wall -Wshadow -Wformat -Wpointer-arith -Wstrict-prototypes -Wmissing-prototypes -Wwrite-strings -Wsign-compare -Wimplicit-function-declaration -g -I/usr/local/lib/ansi-include -std=c99  -O3 decode.c\n",
            "gcc -c -pedantic -Wall -Wshadow -Wformat -Wpointer-arith -Wstrict-prototypes -Wmissing-prototypes -Wwrite-strings -Wsign-compare -Wimplicit-function-declaration -g -I/usr/local/lib/ansi-include -std=c99  -O3 moves.c\n",
            "gcc -c -pedantic -Wall -Wshadow -Wformat -Wpointer-arith -Wstrict-prototypes -Wmissing-prototypes -Wwrite-strings -Wsign-compare -Wimplicit-function-declaration -g -I/usr/local/lib/ansi-include -std=c99  -O3 lists.c\n",
            "gcc -c -pedantic -Wall -Wshadow -Wformat -Wpointer-arith -Wstrict-prototypes -Wmissing-prototypes -Wwrite-strings -Wsign-compare -Wimplicit-function-declaration -g -I/usr/local/lib/ansi-include -std=c99  -O3 apply.c\n",
            "gcc -c -pedantic -Wall -Wshadow -Wformat -Wpointer-arith -Wstrict-prototypes -Wmissing-prototypes -Wwrite-strings -Wsign-compare -Wimplicit-function-declaration -g -I/usr/local/lib/ansi-include -std=c99  -O3 output.c\n",
            "gcc -c -pedantic -Wall -Wshadow -Wformat -Wpointer-arith -Wstrict-prototypes -Wmissing-prototypes -Wwrite-strings -Wsign-compare -Wimplicit-function-declaration -g -I/usr/local/lib/ansi-include -std=c99  -O3 eco.c\n",
            "gcc -c -pedantic -Wall -Wshadow -Wformat -Wpointer-arith -Wstrict-prototypes -Wmissing-prototypes -Wwrite-strings -Wsign-compare -Wimplicit-function-declaration -g -I/usr/local/lib/ansi-include -std=c99  -O3 lines.c\n",
            "gcc -c -pedantic -Wall -Wshadow -Wformat -Wpointer-arith -Wstrict-prototypes -Wmissing-prototypes -Wwrite-strings -Wsign-compare -Wimplicit-function-declaration -g -I/usr/local/lib/ansi-include -std=c99  -O3 end.c\n",
            "gcc -c -pedantic -Wall -Wshadow -Wformat -Wpointer-arith -Wstrict-prototypes -Wmissing-prototypes -Wwrite-strings -Wsign-compare -Wimplicit-function-declaration -g -I/usr/local/lib/ansi-include -std=c99  -O3 main.c\n",
            "gcc -c -pedantic -Wall -Wshadow -Wformat -Wpointer-arith -Wstrict-prototypes -Wmissing-prototypes -Wwrite-strings -Wsign-compare -Wimplicit-function-declaration -g -I/usr/local/lib/ansi-include -std=c99  -O3 hashing.c\n",
            "gcc -c -pedantic -Wall -Wshadow -Wformat -Wpointer-arith -Wstrict-prototypes -Wmissing-prototypes -Wwrite-strings -Wsign-compare -Wimplicit-function-declaration -g -I/usr/local/lib/ansi-include -std=c99  -O3 argsfile.c\n",
            "gcc -c -pedantic -Wall -Wshadow -Wformat -Wpointer-arith -Wstrict-prototypes -Wmissing-prototypes -Wwrite-strings -Wsign-compare -Wimplicit-function-declaration -g -I/usr/local/lib/ansi-include -std=c99  -O3 mymalloc.c\n",
            "gcc -c -pedantic -Wall -Wshadow -Wformat -Wpointer-arith -Wstrict-prototypes -Wmissing-prototypes -Wwrite-strings -Wsign-compare -Wimplicit-function-declaration -g -I/usr/local/lib/ansi-include -std=c99  -O3 fenmatcher.c\n",
            "gcc -c -pedantic -Wall -Wshadow -Wformat -Wpointer-arith -Wstrict-prototypes -Wmissing-prototypes -Wwrite-strings -Wsign-compare -Wimplicit-function-declaration -g -I/usr/local/lib/ansi-include -std=c99  -O3 taglines.c\n",
            "gcc -c -pedantic -Wall -Wshadow -Wformat -Wpointer-arith -Wstrict-prototypes -Wmissing-prototypes -Wwrite-strings -Wsign-compare -Wimplicit-function-declaration -g -I/usr/local/lib/ansi-include -std=c99  -O3 zobrist.c\n",
            "gcc -g    grammar.o lex.o map.o decode.o moves.o lists.o apply.o output.o eco.o lines.o end.o main.o hashing.o argsfile.o mymalloc.o fenmatcher.o taglines.o zobrist.o -lm -o pgn-extract\n"
          ]
        }
      ]
    },
    {
      "cell_type": "markdown",
      "source": [
        "## Create a lichess study and export the PGN files\n",
        "\n",
        "In this notebook I'm dealing with the example of the defense against the *fried liver attack* proposed in this (french) YouTube video:"
      ],
      "metadata": {
        "id": "e5vucEnLyVa4"
      }
    },
    {
      "cell_type": "code",
      "source": [
        "from IPython.display import YouTubeVideo\n",
        "YouTubeVideo(\"OwJU0H39II4\", width=400)"
      ],
      "metadata": {
        "colab": {
          "base_uri": "https://localhost:8080/",
          "height": 321
        },
        "id": "5BlW8Zpwz0kM",
        "outputId": "9d5310cf-8795-4ea9-e48c-a7943b1d0edc"
      },
      "execution_count": 5,
      "outputs": [
        {
          "output_type": "execute_result",
          "data": {
            "text/plain": [
              "<IPython.lib.display.YouTubeVideo at 0x7fade0e56bf0>"
            ],
            "text/html": [
              "\n",
              "        <iframe\n",
              "            width=\"400\"\n",
              "            height=\"300\"\n",
              "            src=\"https://www.youtube.com/embed/OwJU0H39II4\"\n",
              "            frameborder=\"0\"\n",
              "            allowfullscreen\n",
              "            \n",
              "        ></iframe>\n",
              "        "
            ],
            "image/jpeg": "[encoded data removed]"
          },
          "metadata": {},
          "execution_count": 5
        }
      ]
    },
    {
      "cell_type": "markdown",
      "source": [
        "I have created a lichess study from the analysis in this video:"
      ],
      "metadata": {
        "id": "B04Ax_5bz33i"
      }
    },
    {
      "cell_type": "code",
      "source": [
        "from IPython.display import IFrame\n",
        "IFrame('https://lichess.org/study/embed/dCLE24Th/13j95kBZ', width=700, height=350)"
      ],
      "metadata": {
        "colab": {
          "base_uri": "https://localhost:8080/",
          "height": 371
        },
        "id": "3uqdI78BxCdt",
        "outputId": "1c6f2b72-a6eb-4fd5-8cce-fa9164c181d7"
      },
      "execution_count": 6,
      "outputs": [
        {
          "output_type": "execute_result",
          "data": {
            "text/plain": [
              "<IPython.lib.display.IFrame at 0x7fade0e56d70>"
            ],
            "text/html": [
              "\n",
              "        <iframe\n",
              "            width=\"700\"\n",
              "            height=\"350\"\n",
              "            src=\"https://lichess.org/study/embed/dCLE24Th/13j95kBZ\"\n",
              "            frameborder=\"0\"\n",
              "            allowfullscreen\n",
              "            \n",
              "        ></iframe>\n",
              "        "
            ]
          },
          "metadata": {},
          "execution_count": 6
        }
      ]
    },
    {
      "cell_type": "markdown",
      "source": [
        "The study is divided into several chapters corresponding to the different possible reactions of whites to the trap `4.. Nxe4`:\n",
        "\n",
        "1. `5. Nxe4`: The white knight captures the black knight which seems \"free\". But it follows a `d4` fork, recovering a piece.\n",
        "2. `5. Nxf7`: White's knight ignores the move and performs the plan originally purposed by forking queen-rook. The threat is then reversed by bringing the queen back on the attack with `Qh4`.\n",
        "3. `5. Bxf7+`: the bishop captures a pawn on check, forcing the king to escape with `Ke7`\n",
        "4. `6. d4`: White's rebuttal in the last scenario `5. Bxf7+`"
      ],
      "metadata": {
        "id": "4SzEskJF4rYX"
      }
    },
    {
      "cell_type": "markdown",
      "source": [
        "First export the PGN files corresponding to each chapter and rename them respectively as follows:\n",
        "- `Nex4`\n",
        "- `Nxf7`\n",
        "- `Bxf7+`\n",
        "- `d4` \n",
        "\n"
      ],
      "metadata": {
        "id": "r5nMppsxvvIE"
      }
    },
    {
      "cell_type": "markdown",
      "source": [
        "## Modify the PGN files with pgn-extract\n",
        "\n",
        "Upload these 4 files in Google Colab.\n",
        "\n",
        "Then, for each file, apply the argument `--dropply` of [pgn-extract](https://www.cs.kent.ac.uk/people/staff/djb/pgn-extract/help.html#dropply) to remove the useless first moves for the studied position:"
      ],
      "metadata": {
        "id": "xhxnwmQixj1N"
      }
    },
    {
      "cell_type": "code",
      "source": [
        "!cd pgn-extract && \\\n",
        "./pgn-extract --dropply 8 ../Nxe4.pgn > ../Nxe4_dropped.pgn && \\\n",
        "./pgn-extract --dropply 8 ../Nxf7.pgn > ../Nxf7_dropped.pgn && \\\n",
        "./pgn-extract --dropply 8 ../Bxf7+.pgn > ../Bxf7+_dropped.pgn && \\\n",
        "./pgn-extract --dropply 9 ../d4.pgn > ../d4_dropped.pgn"
      ],
      "metadata": {
        "colab": {
          "base_uri": "https://localhost:8080/"
        },
        "id": "L_9A-Ih-t0pI",
        "outputId": "e7ec69c5-724b-4e30-ae0b-958ea895b6b9"
      },
      "execution_count": 8,
      "outputs": [
        {
          "output_type": "stream",
          "name": "stdout",
          "text": [
            "Processing ../Nxe4.pgn\n",
            "Fried Liver Attack (Defense Nxe4): Nxe4 https://lichess.org/study/dCLE24Th/1YEJtAyc \n",
            "1 game matched out of 1.\n",
            "Processing ../Nxf7.pgn\n",
            "Fried Liver Attack (Defense Nxe4): Nxf7 https://lichess.org/study/dCLE24Th/13j95kBZ \n",
            "1 game matched out of 1.\n",
            "Processing ../Bxf7+.pgn\n",
            "Fried Liver Attack (Defense Nxe4): Bxf7+ https://lichess.org/study/dCLE24Th/hJ36Q8EL \n",
            "1 game matched out of 1.\n",
            "Processing ../d4.pgn\n",
            "Fried Liver Attack (Defense Nxe4): d4 https://lichess.org/study/dCLE24Th/5S8u5IHJ \n",
            "1 game matched out of 1.\n"
          ]
        }
      ]
    },
    {
      "cell_type": "markdown",
      "source": [
        "A tag `[FEN \"...\"]` is added to the PGN files.\n",
        "\n",
        "Then create a folder for each chapter:"
      ],
      "metadata": {
        "id": "I_XS5XFx1HbU"
      }
    },
    {
      "cell_type": "code",
      "source": [
        "!mkdir Nxe4 Nxf7 Bxf7+ d4"
      ],
      "metadata": {
        "id": "ZrZhgyRcOJhe"
      },
      "execution_count": 9,
      "outputs": []
    },
    {
      "cell_type": "markdown",
      "source": [
        "[Split the files](https://www.cs.kent.ac.uk/people/staff/djb/pgn-extract/help.html#splitvariants) into different parts corresponding to each variant with the argument `--splitvariants`:"
      ],
      "metadata": {
        "id": "kXTBxa8X1K8k"
      }
    },
    {
      "cell_type": "code",
      "source": [
        "!cd pgn-extract && \\\n",
        "./pgn-extract --splitvariants --output ../Nxe4/Nxe4_splitted.pgn ../Nxe4_dropped.pgn && \\\n",
        "./pgn-extract --splitvariants --output ../Nxf7/Nxf7_splitted.pgn ../Nxf7_dropped.pgn && \\\n",
        "./pgn-extract --splitvariants --output ../Bxf7+/Bxf7+_splitted.pgn ../Bxf7+_dropped.pgn && \\\n",
        "./pgn-extract --splitvariants --output ../d4/d4_splitted.pgn ../d4_dropped.pgn"
      ],
      "metadata": {
        "colab": {
          "base_uri": "https://localhost:8080/"
        },
        "id": "-QA3L4qrlbpR",
        "outputId": "09673f81-49f3-49c0-bc05-6008efc62515"
      },
      "execution_count": 19,
      "outputs": [
        {
          "output_type": "stream",
          "name": "stdout",
          "text": [
            "Processing ../Nxe4_dropped.pgn\n",
            "? - ? Fried Liver Attack (Defense Nxe4): Nxe4 https://lichess.org/study/dCLE24Th/1YEJtAyc ????.??.?? \n",
            "1 game matched out of 1.\n",
            "Processing ../Nxf7_dropped.pgn\n",
            "? - ? Fried Liver Attack (Defense Nxe4): Nxf7 https://lichess.org/study/dCLE24Th/13j95kBZ ????.??.?? \n",
            "1 game matched out of 1.\n",
            "Processing ../Bxf7+_dropped.pgn\n",
            "? - ? Fried Liver Attack (Defense Nxe4): Bxf7+ https://lichess.org/study/dCLE24Th/hJ36Q8EL ????.??.?? \n",
            "1 game matched out of 1.\n",
            "Processing ../d4_dropped.pgn\n",
            "? - ? Fried Liver Attack (Defense Nxe4): d4 https://lichess.org/study/dCLE24Th/5S8u5IHJ ????.??.?? \n",
            "1 game matched out of 1.\n"
          ]
        }
      ]
    },
    {
      "cell_type": "markdown",
      "source": [
        "Create [separate output files](https://www.cs.kent.ac.uk/people/staff/djb/pgn-extract/help.html#separate-output) for each corresponding variant with the flag `-#` and then remove the files ending by `_splitted.pgn`:\n",
        ":"
      ],
      "metadata": {
        "id": "oR_YuNvd1x7m"
      }
    },
    {
      "cell_type": "code",
      "source": [
        "!cd Nxe4 && ../pgn-extract/pgn-extract Nxe4_splitted.pgn -#1 && rm Nxe4_splitted.pgn && \\\n",
        "cd ../Nxf7 && ../pgn-extract/pgn-extract Nxf7_splitted.pgn -#1 && rm Nxf7_splitted.pgn && \\\n",
        "cd ../Bxf7+ && ../pgn-extract/pgn-extract Bxf7+_splitted.pgn -#1 && rm Bxf7+_splitted.pgn && \\\n",
        "cd ../d4 && ../pgn-extract/pgn-extract d4_splitted.pgn -#1 && rm d4_splitted.pgn"
      ],
      "metadata": {
        "id": "eHS8U-BUZNbs",
        "colab": {
          "base_uri": "https://localhost:8080/"
        },
        "outputId": "7018f81d-61d5-4092-e1aa-17f4879a9882"
      },
      "execution_count": 20,
      "outputs": [
        {
          "output_type": "stream",
          "name": "stdout",
          "text": [
            "Processing Nxe4_splitted.pgn\n",
            "? - ? Fried Liver Attack (Defense Nxe4): Nxe4 https://lichess.org/study/dCLE24Th/1YEJtAyc ????.??.?? \n",
            "1 game matched out of 1.\n",
            "Processing Nxf7_splitted.pgn\n",
            "? - ? Fried Liver Attack (Defense Nxe4): Nxf7 https://lichess.org/study/dCLE24Th/13j95kBZ ????.??.?? \n",
            "? - ? Fried Liver Attack (Defense Nxe4): Nxf7 https://lichess.org/study/dCLE24Th/13j95kBZ ????.??.?? \n",
            "? - ? Fried Liver Attack (Defense Nxe4): Nxf7 https://lichess.org/study/dCLE24Th/13j95kBZ ????.??.?? \n",
            "? - ? Fried Liver Attack (Defense Nxe4): Nxf7 https://lichess.org/study/dCLE24Th/13j95kBZ ????.??.?? \n",
            "? - ? Fried Liver Attack (Defense Nxe4): Nxf7 https://lichess.org/study/dCLE24Th/13j95kBZ ????.??.?? \n",
            "? - ? Fried Liver Attack (Defense Nxe4): Nxf7 https://lichess.org/study/dCLE24Th/13j95kBZ ????.??.?? \n",
            "? - ? Fried Liver Attack (Defense Nxe4): Nxf7 https://lichess.org/study/dCLE24Th/13j95kBZ ????.??.?? \n",
            "7 games matched out of 7.\n",
            "Processing Bxf7+_splitted.pgn\n",
            "? - ? Fried Liver Attack (Defense Nxe4): Bxf7+ https://lichess.org/study/dCLE24Th/hJ36Q8EL ????.??.?? \n",
            "? - ? Fried Liver Attack (Defense Nxe4): Bxf7+ https://lichess.org/study/dCLE24Th/hJ36Q8EL ????.??.?? \n",
            "? - ? Fried Liver Attack (Defense Nxe4): Bxf7+ https://lichess.org/study/dCLE24Th/hJ36Q8EL ????.??.?? \n",
            "? - ? Fried Liver Attack (Defense Nxe4): Bxf7+ https://lichess.org/study/dCLE24Th/hJ36Q8EL ????.??.?? \n",
            "4 games matched out of 4.\n",
            "Processing d4_splitted.pgn\n",
            "? - ? Fried Liver Attack (Defense Nxe4): d4 https://lichess.org/study/dCLE24Th/5S8u5IHJ ????.??.?? \n",
            "? - ? Fried Liver Attack (Defense Nxe4): d4 https://lichess.org/study/dCLE24Th/5S8u5IHJ ????.??.?? \n",
            "? - ? Fried Liver Attack (Defense Nxe4): d4 https://lichess.org/study/dCLE24Th/5S8u5IHJ ????.??.?? \n",
            "Warning: Result of * is inconsistent with checkmate by white in\n",
            "? - ? Fried Liver Attack (Defense Nxe4): d4 https://lichess.org/study/dCLE24Th/5S8u5IHJ ????.??.?? \n",
            "File d4_splitted.pgn: Line number: 72\n",
            "? - ? Fried Liver Attack (Defense Nxe4): d4 https://lichess.org/study/dCLE24Th/5S8u5IHJ ????.??.?? \n",
            "? - ? Fried Liver Attack (Defense Nxe4): d4 https://lichess.org/study/dCLE24Th/5S8u5IHJ ????.??.?? \n",
            "5 games matched out of 5.\n"
          ]
        }
      ]
    },
    {
      "cell_type": "markdown",
      "source": [
        "## Use these PGN files to create flashcards\n",
        "\n",
        "Compress the different folders:"
      ],
      "metadata": {
        "id": "_C9ypcJF2dXR"
      }
    },
    {
      "cell_type": "code",
      "source": [
        "!zip -r Nxe4.zip Nxe4/ && \\\n",
        "zip -r Nxf7.zip Nxf7/ && \\\n",
        "zip -r Bxf7+.zip Bxf7+/ && \\\n",
        "zip -r d4.zip d4/"
      ],
      "metadata": {
        "colab": {
          "base_uri": "https://localhost:8080/"
        },
        "id": "yMn0FQ6iQ6ih",
        "outputId": "ed849966-bee8-4ab1-d113-72aef29575a2"
      },
      "execution_count": 12,
      "outputs": [
        {
          "output_type": "stream",
          "name": "stdout",
          "text": [
            "  adding: Nxe4/ (stored 0%)\n",
            "  adding: Nxe4/Nxe4_splitted.pgn (deflated 30%)\n",
            "  adding: Nxe4/1.pgn (deflated 30%)\n",
            "  adding: Nxf7/ (stored 0%)\n",
            "  adding: Nxf7/7.pgn (deflated 30%)\n",
            "  adding: Nxf7/2.pgn (deflated 30%)\n",
            "  adding: Nxf7/3.pgn (deflated 30%)\n",
            "  adding: Nxf7/6.pgn (deflated 30%)\n",
            "  adding: Nxf7/1.pgn (deflated 29%)\n",
            "  adding: Nxf7/Nxf7_splitted.pgn (deflated 86%)\n",
            "  adding: Nxf7/5.pgn (deflated 31%)\n",
            "  adding: Nxf7/4.pgn (deflated 30%)\n",
            "  adding: Bxf7+/ (stored 0%)\n",
            "  adding: Bxf7+/2.pgn (deflated 30%)\n",
            "  adding: Bxf7+/3.pgn (deflated 31%)\n",
            "  adding: Bxf7+/1.pgn (deflated 30%)\n",
            "  adding: Bxf7+/4.pgn (deflated 30%)\n",
            "  adding: Bxf7+/Bxf7+_splitted.pgn (deflated 77%)\n",
            "  adding: d4/ (stored 0%)\n",
            "  adding: d4/2.pgn (deflated 29%)\n",
            "  adding: d4/3.pgn (deflated 29%)\n",
            "  adding: d4/1.pgn (deflated 29%)\n",
            "  adding: d4/5.pgn (deflated 29%)\n",
            "  adding: d4/4.pgn (deflated 29%)\n",
            "  adding: d4/d4_splitted.pgn (deflated 82%)\n"
          ]
        }
      ]
    },
    {
      "cell_type": "markdown",
      "source": [
        "Download them on your computer and you are now able to create [Anki chess 2.0 flashcards](https://github.com/TowelSniffer/Anki-Chess-2.0) from these PGN files."
      ],
      "metadata": {
        "id": "kB3U9QvS2l5H"
      }
    },
    {
      "cell_type": "code",
      "source": [
        "from google.colab import files\n",
        "files.download(\"Nxe4.zip\")\n",
        "files.download(\"Nxf7.zip\")\n",
        "files.download(\"Bxf7+.zip\")\n",
        "files.download(\"d4.zip\")"
      ],
      "metadata": {
        "colab": {
          "base_uri": "https://localhost:8080/",
          "height": 17
        },
        "id": "VMUJVK_YUMum",
        "outputId": "5e1e1030-fd54-4ae4-a53f-1ef33b67782d"
      },
      "execution_count": 14,
      "outputs": [
        {
          "output_type": "display_data",
          "data": {
            "text/plain": [
              "<IPython.core.display.Javascript object>"
            ],
            "application/javascript": [
              "\n",
              "    async function download(id, filename, size) {\n",
              "      if (!google.colab.kernel.accessAllowed) {\n",
              "        return;\n",
              "      }\n",
              "      const div = document.createElement('div');\n",
              "      const label = document.createElement('label');\n",
              "      label.textContent = `Downloading \"${filename}\": `;\n",
              "      div.appendChild(label);\n",
              "      const progress = document.createElement('progress');\n",
              "      progress.max = size;\n",
              "      div.appendChild(progress);\n",
              "      document.body.appendChild(div);\n",
              "\n",
              "      const buffers = [];\n",
              "      let downloaded = 0;\n",
              "\n",
              "      const channel = await google.colab.kernel.comms.open(id);\n",
              "      // Send a message to notify the kernel that we're ready.\n",
              "      channel.send({})\n",
              "\n",
              "      for await (const message of channel.messages) {\n",
              "        // Send a message to notify the kernel that we're ready.\n",
              "        channel.send({})\n",
              "        if (message.buffers) {\n",
              "          for (const buffer of message.buffers) {\n",
              "            buffers.push(buffer);\n",
              "            downloaded += buffer.byteLength;\n",
              "            progress.value = downloaded;\n",
              "          }\n",
              "        }\n",
              "      }\n",
              "      const blob = new Blob(buffers, {type: 'application/binary'});\n",
              "      const a = document.createElement('a');\n",
              "      a.href = window.URL.createObjectURL(blob);\n",
              "      a.download = filename;\n",
              "      div.appendChild(a);\n",
              "      a.click();\n",
              "      div.remove();\n",
              "    }\n",
              "  "
            ]
          },
          "metadata": {}
        },
        {
          "output_type": "display_data",
          "data": {
            "text/plain": [
              "<IPython.core.display.Javascript object>"
            ],
            "application/javascript": [
              "download(\"download_5d86f6fa-b403-4230-85e7-639553859683\", \"Nxe4.zip\", 1142)"
            ]
          },
          "metadata": {}
        },
        {
          "output_type": "display_data",
          "data": {
            "text/plain": [
              "<IPython.core.display.Javascript object>"
            ],
            "application/javascript": [
              "\n",
              "    async function download(id, filename, size) {\n",
              "      if (!google.colab.kernel.accessAllowed) {\n",
              "        return;\n",
              "      }\n",
              "      const div = document.createElement('div');\n",
              "      const label = document.createElement('label');\n",
              "      label.textContent = `Downloading \"${filename}\": `;\n",
              "      div.appendChild(label);\n",
              "      const progress = document.createElement('progress');\n",
              "      progress.max = size;\n",
              "      div.appendChild(progress);\n",
              "      document.body.appendChild(div);\n",
              "\n",
              "      const buffers = [];\n",
              "      let downloaded = 0;\n",
              "\n",
              "      const channel = await google.colab.kernel.comms.open(id);\n",
              "      // Send a message to notify the kernel that we're ready.\n",
              "      channel.send({})\n",
              "\n",
              "      for await (const message of channel.messages) {\n",
              "        // Send a message to notify the kernel that we're ready.\n",
              "        channel.send({})\n",
              "        if (message.buffers) {\n",
              "          for (const buffer of message.buffers) {\n",
              "            buffers.push(buffer);\n",
              "            downloaded += buffer.byteLength;\n",
              "            progress.value = downloaded;\n",
              "          }\n",
              "        }\n",
              "      }\n",
              "      const blob = new Blob(buffers, {type: 'application/binary'});\n",
              "      const a = document.createElement('a');\n",
              "      a.href = window.URL.createObjectURL(blob);\n",
              "      a.download = filename;\n",
              "      div.appendChild(a);\n",
              "      a.click();\n",
              "      div.remove();\n",
              "    }\n",
              "  "
            ]
          },
          "metadata": {}
        },
        {
          "output_type": "display_data",
          "data": {
            "text/plain": [
              "<IPython.core.display.Javascript object>"
            ],
            "application/javascript": [
              "download(\"download_02d785f6-2328-4143-8bf3-90b910a7afb1\", \"Nxf7.zip\", 4479)"
            ]
          },
          "metadata": {}
        },
        {
          "output_type": "display_data",
          "data": {
            "text/plain": [
              "<IPython.core.display.Javascript object>"
            ],
            "application/javascript": [
              "\n",
              "    async function download(id, filename, size) {\n",
              "      if (!google.colab.kernel.accessAllowed) {\n",
              "        return;\n",
              "      }\n",
              "      const div = document.createElement('div');\n",
              "      const label = document.createElement('label');\n",
              "      label.textContent = `Downloading \"${filename}\": `;\n",
              "      div.appendChild(label);\n",
              "      const progress = document.createElement('progress');\n",
              "      progress.max = size;\n",
              "      div.appendChild(progress);\n",
              "      document.body.appendChild(div);\n",
              "\n",
              "      const buffers = [];\n",
              "      let downloaded = 0;\n",
              "\n",
              "      const channel = await google.colab.kernel.comms.open(id);\n",
              "      // Send a message to notify the kernel that we're ready.\n",
              "      channel.send({})\n",
              "\n",
              "      for await (const message of channel.messages) {\n",
              "        // Send a message to notify the kernel that we're ready.\n",
              "        channel.send({})\n",
              "        if (message.buffers) {\n",
              "          for (const buffer of message.buffers) {\n",
              "            buffers.push(buffer);\n",
              "            downloaded += buffer.byteLength;\n",
              "            progress.value = downloaded;\n",
              "          }\n",
              "        }\n",
              "      }\n",
              "      const blob = new Blob(buffers, {type: 'application/binary'});\n",
              "      const a = document.createElement('a');\n",
              "      a.href = window.URL.createObjectURL(blob);\n",
              "      a.download = filename;\n",
              "      div.appendChild(a);\n",
              "      a.click();\n",
              "      div.remove();\n",
              "    }\n",
              "  "
            ]
          },
          "metadata": {}
        },
        {
          "output_type": "display_data",
          "data": {
            "text/plain": [
              "<IPython.core.display.Javascript object>"
            ],
            "application/javascript": [
              "download(\"download_55c6f913-0b36-45e7-b921-00ccf5fa6e77\", \"Bxf7+.zip\", 2973)"
            ]
          },
          "metadata": {}
        },
        {
          "output_type": "display_data",
          "data": {
            "text/plain": [
              "<IPython.core.display.Javascript object>"
            ],
            "application/javascript": [
              "\n",
              "    async function download(id, filename, size) {\n",
              "      if (!google.colab.kernel.accessAllowed) {\n",
              "        return;\n",
              "      }\n",
              "      const div = document.createElement('div');\n",
              "      const label = document.createElement('label');\n",
              "      label.textContent = `Downloading \"${filename}\": `;\n",
              "      div.appendChild(label);\n",
              "      const progress = document.createElement('progress');\n",
              "      progress.max = size;\n",
              "      div.appendChild(progress);\n",
              "      document.body.appendChild(div);\n",
              "\n",
              "      const buffers = [];\n",
              "      let downloaded = 0;\n",
              "\n",
              "      const channel = await google.colab.kernel.comms.open(id);\n",
              "      // Send a message to notify the kernel that we're ready.\n",
              "      channel.send({})\n",
              "\n",
              "      for await (const message of channel.messages) {\n",
              "        // Send a message to notify the kernel that we're ready.\n",
              "        channel.send({})\n",
              "        if (message.buffers) {\n",
              "          for (const buffer of message.buffers) {\n",
              "            buffers.push(buffer);\n",
              "            downloaded += buffer.byteLength;\n",
              "            progress.value = downloaded;\n",
              "          }\n",
              "        }\n",
              "      }\n",
              "      const blob = new Blob(buffers, {type: 'application/binary'});\n",
              "      const a = document.createElement('a');\n",
              "      a.href = window.URL.createObjectURL(blob);\n",
              "      a.download = filename;\n",
              "      div.appendChild(a);\n",
              "      a.click();\n",
              "      div.remove();\n",
              "    }\n",
              "  "
            ]
          },
          "metadata": {}
        },
        {
          "output_type": "display_data",
          "data": {
            "text/plain": [
              "<IPython.core.display.Javascript object>"
            ],
            "application/javascript": [
              "download(\"download_5e707b17-c524-40f8-a52f-844305f11024\", \"d4.zip\", 3320)"
            ]
          },
          "metadata": {}
        }
      ]
    }
  ]
}